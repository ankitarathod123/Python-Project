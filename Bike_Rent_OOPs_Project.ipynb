{
  "cells": [
    {
      "cell_type": "markdown",
      "id": "303d18ca",
      "metadata": {
        "id": "303d18ca"
      },
      "source": [
        "## OOP project"
      ]
    },
    {
      "cell_type": "markdown",
      "id": "5cada111",
      "metadata": {
        "id": "5cada111"
      },
      "source": [
        "A Bike Rental System\n",
        "\n",
        "A full fledged bike rental system implemented in Python using object oriented programming.\n",
        "\n",
        "Customers can see available bikes on the shop.\n",
        "Rent bikes on daily basis Rs.100 per day.\n",
        "Rent bikes on weekly basis Rs.500 per week.\n",
        "Family Rental, a promotion that can include from 3 to 5 Rentals (of any type) with a discount of 30% of the total price.\n",
        "\n",
        "The bike rental shop can issue a bill when customer decides to return the bike,\n",
        "display available inventory ,take requests on daily and weekly basis by cross verifying stock.\n",
        "\n",
        "For simplicity we assume that\n",
        "Any customer requests rentals of only one type i.e daily or weekly and is free to choose the number of bikes he/she wants.\n",
        "Requested bikes should be less than available stock."
      ]
    },
    {
      "cell_type": "code",
      "execution_count": null,
      "id": "81b2891a",
      "metadata": {
        "id": "81b2891a"
      },
      "outputs": [],
      "source": []
    },
    {
      "cell_type": "markdown",
      "id": "abae9162",
      "metadata": {
        "id": "abae9162"
      },
      "source": [
        "## Step 1\n",
        "\n",
        "Create a parent class `BikeRental`. Define `stock` as `class attribute` and assign value 100 to it.\n",
        "\n",
        "This class should not take any other attribute and when the object is created, it should display the message \"Welcome to rental bike shop.\"\n",
        "\n",
        "Define a method `displaystock` inside this class and when this method is called, it should display the total number of stock available."
      ]
    },
    {
      "cell_type": "code",
      "execution_count": null,
      "id": "8816e06c",
      "metadata": {
        "id": "8816e06c"
      },
      "outputs": [],
      "source": [
        "class BikeRental:\n",
        "    stock = 100\n",
        "\n",
        "    def __init__(self):\n",
        "        print(\"Welcome to rental bike shop.\")\n",
        "\n",
        "\n",
        "    def displaystock(self):\n",
        "        print('Total number of bikes available:',(self.stock))"
      ]
    },
    {
      "cell_type": "markdown",
      "id": "2ca3fb5c",
      "metadata": {
        "id": "2ca3fb5c"
      },
      "source": [
        "Create an object `bike_shop` of above class."
      ]
    },
    {
      "cell_type": "code",
      "execution_count": null,
      "id": "5184fc96",
      "metadata": {
        "id": "5184fc96"
      },
      "outputs": [],
      "source": [
        "bike_shop = BikeRental()"
      ]
    },
    {
      "cell_type": "code",
      "execution_count": null,
      "id": "ef59df60",
      "metadata": {
        "id": "ef59df60",
        "colab": {
          "base_uri": "https://localhost:8080/"
        },
        "outputId": "eed44df9-e828-4db4-d1df-08e9f798e4e9"
      },
      "outputs": [
        {
          "output_type": "stream",
          "name": "stdout",
          "text": [
            "Welcome to rental bike shop.\n"
          ]
        }
      ],
      "source": [
        "bike_shop = BikeRental()"
      ]
    },
    {
      "cell_type": "markdown",
      "id": "73d006a8",
      "metadata": {
        "id": "73d006a8"
      },
      "source": [
        "Check if above created object can access the `class attribute` `stock`."
      ]
    },
    {
      "cell_type": "code",
      "execution_count": null,
      "id": "a96da206",
      "metadata": {
        "scrolled": true,
        "id": "a96da206"
      },
      "outputs": [],
      "source": [
        "bike_shop.displaystock()"
      ]
    },
    {
      "cell_type": "code",
      "execution_count": null,
      "id": "4460bd03",
      "metadata": {
        "id": "4460bd03"
      },
      "outputs": [],
      "source": []
    },
    {
      "cell_type": "markdown",
      "id": "a702f97d",
      "metadata": {
        "id": "a702f97d"
      },
      "source": [
        "Call the method `displaystock` using above created object `bike_shop`."
      ]
    },
    {
      "cell_type": "code",
      "execution_count": null,
      "id": "c4dc35b0",
      "metadata": {
        "id": "c4dc35b0",
        "colab": {
          "base_uri": "https://localhost:8080/"
        },
        "outputId": "50160446-08db-47ca-f2ab-82a5e9616958"
      },
      "outputs": [
        {
          "output_type": "stream",
          "name": "stdout",
          "text": [
            "Total number of bikes available: 100\n"
          ]
        }
      ],
      "source": [
        "bike_shop.displaystock()"
      ]
    },
    {
      "cell_type": "code",
      "execution_count": null,
      "id": "6a859671",
      "metadata": {
        "id": "6a859671"
      },
      "outputs": [],
      "source": []
    },
    {
      "cell_type": "markdown",
      "id": "d3a33de1",
      "metadata": {
        "id": "d3a33de1"
      },
      "source": [
        "## Step 2\n",
        "\n",
        "Create a derived class `Customer` to inherit the methods from `BikeRental` class.\n",
        "Define `bill` as `class attribute`and set it's initial value as zero.\n",
        "\n",
        "This class has `number_of_bikes`, `rentalBasis` (daily or weekly) and `number_of_days_or_weeks` as attributes."
      ]
    },
    {
      "cell_type": "code",
      "execution_count": null,
      "id": "50196270",
      "metadata": {
        "id": "50196270"
      },
      "outputs": [],
      "source": [
        "class Customer(BikeRental):\n",
        "  bill =0\n",
        "  def __init__(self,number_of_bikes,rentalBasis,number_of_days_or_weeks):\n",
        "    self.number_of_bikes=number_of_bikes\n",
        "    self.rentalBasis=rentalBasis\n",
        "    self.number_of_days_or_weeks=number_of_days_or_weeks\n",
        "\n",
        "\n"
      ]
    },
    {
      "cell_type": "code",
      "execution_count": null,
      "id": "363883ea",
      "metadata": {
        "id": "363883ea"
      },
      "outputs": [],
      "source": []
    },
    {
      "cell_type": "markdown",
      "id": "98a400fe",
      "metadata": {
        "id": "98a400fe"
      },
      "source": [
        "Define a function `rentBike`, it should have following conditions:\n",
        "\n",
        "- if `number_of_bikes` is less than or equal to zero, it should display the message \"Number of bikes should be positive!\".\n",
        "\n",
        "- if `number_of_bikes` is greater than the `stock`, it should display the `number_of_bikes` available to rent.\n",
        "\n",
        "- Otherwise display the total `number_of_bikes` rented by the customer. Do not forget to update the value of `stock` i.e. subtract the `number_of_bikes` rented from stock and display the updated `stock`."
      ]
    },
    {
      "cell_type": "code",
      "execution_count": null,
      "id": "0f15d993",
      "metadata": {
        "id": "0f15d993"
      },
      "outputs": [],
      "source": [
        "def rentBike():\n",
        "  if number_of_bikes <=0:\n",
        "    print(\"Number of bikes should be positive!\")\n",
        "  elif number_of_bikes > self.stock:\n",
        "    print((number_of_bikes),'available to rent')\n",
        "  else:\n",
        "    print(self.stocks - number_of_bikes)\n",
        "\n",
        "\n",
        "\n"
      ]
    },
    {
      "cell_type": "code",
      "execution_count": null,
      "id": "e66fb261",
      "metadata": {
        "id": "e66fb261"
      },
      "outputs": [],
      "source": []
    },
    {
      "cell_type": "markdown",
      "id": "cb22ec0f",
      "metadata": {
        "id": "cb22ec0f"
      },
      "source": [
        "Define a function `returnBike` to return the total bill of customer.\n",
        "- Check if `rentalBasis` is ' daily ' or ' weekly ' and accordingly calculate the bill. Rent on ' daily ' basis is Rs. 100 per bike and for ' weekly ' basis it is Rs. 500 per bike.\n",
        "\n",
        "- If `number_of_bikes` rented by customer is between 3 to 5 (both values inclusive), 30% discount is offered on total bill. So it should display the message \"You are eligible for Family rental promotion of 30% discount\"."
      ]
    },
    {
      "cell_type": "code",
      "execution_count": null,
      "id": "48be1e59",
      "metadata": {
        "id": "48be1e59"
      },
      "outputs": [],
      "source": [
        "def returnBike(self):\n",
        "    if self.rentalBasis == 'daily':\n",
        "        print(100*number_of_bikes)\n",
        "    elif self.rentalBasis == 'weekly':\n",
        "        print(500*number_of_bikes)\n",
        "    elif number_of_bikes == 3 or number_of_bikes == 5:\n",
        "        print('You are eligible for the Family rental promotion of 30% discount')"
      ]
    },
    {
      "cell_type": "code",
      "execution_count": null,
      "id": "29935c98",
      "metadata": {
        "id": "29935c98"
      },
      "outputs": [],
      "source": []
    },
    {
      "cell_type": "markdown",
      "id": "fa66397a",
      "metadata": {
        "id": "fa66397a"
      },
      "source": [
        "## Step 3\n",
        "\n",
        "Write complete `Customer` class using above defined functions `returnBike` and `rentBike` inside it as methods."
      ]
    },
    {
      "cell_type": "code",
      "execution_count": null,
      "id": "e1c7c3f5",
      "metadata": {
        "id": "e1c7c3f5",
        "colab": {
          "base_uri": "https://localhost:8080/"
        },
        "outputId": "cbede693-0ebd-4456-c3ae-08d37e41adbe"
      },
      "outputs": [
        {
          "output_type": "stream",
          "name": "stdout",
          "text": [
            "Available stock 96\n"
          ]
        }
      ],
      "source": [
        "class BikeRental:\n",
        "    stock = 100\n",
        "\n",
        "    def __init__(self):\n",
        "        print(\"Welcome to rental bike shop.\")\n",
        "\n",
        "\n",
        "    def displaystock(self):\n",
        "        print('Total number of bikes available:',(self.stock))\n",
        "\n",
        "class Customer(BikeRental):\n",
        "  bill =0\n",
        "  def __init__(self,number_of_bikes,rentalBasis,number_of_days_or_weeks):\n",
        "    self.number_of_bikes=number_of_bikes\n",
        "    self.rentalBasis=rentalBasis\n",
        "    self.number_of_days_or_weeks=number_of_days_or_weeks\n",
        "\n",
        "  def rentBike(self):\n",
        "    if self.number_of_bikes <=0:\n",
        "      print(\"Number of bikes should be positive!\")\n",
        "    elif self.number_of_bikes > self.stock:\n",
        "      print((self.number_of_bikes),'Available to rent')\n",
        "    else:\n",
        "      self.stock=self.stock -self.number_of_bikes\n",
        "      print('Available stock',self.stock)\n",
        "  def returnBike(self):\n",
        "    if self.rentalBasis == 'daily':\n",
        "        print(100*self.number_of_bikes)\n",
        "    elif self.rentalBasis == 'weekly':\n",
        "        print(500*self.number_of_bikes)\n",
        "    elif self.number_of_bikes == 3 or self.number_of_bikes == 5:\n",
        "        print('You are eligible for the Family rental promotion of 30% discount')\n",
        "\n",
        "customer_2 = Customer(4,'week',3)\n",
        "customer_2.rentBike()\n",
        "customer_2.returnBike()"
      ]
    },
    {
      "cell_type": "code",
      "execution_count": null,
      "id": "b8753564",
      "metadata": {
        "id": "b8753564"
      },
      "outputs": [],
      "source": []
    },
    {
      "cell_type": "markdown",
      "id": "dea7483f",
      "metadata": {
        "id": "dea7483f"
      },
      "source": [
        "## Step 4\n",
        "\n",
        "Check your `Bike Rental System` for test-case objects given below :\n",
        "\n",
        "For first four customers - check all the three attribute values and call `rentBike` and `returnBike` methods.\n",
        "\n",
        "- customer_1 = Customer(2,'day',5)\n",
        "\n",
        "- customer_2 = Customer(1,'week',3)\n",
        "\n",
        "- customer_3 = Customer(4,'day',3)  - Is family discount applicable here ?\n",
        "\n",
        "- customer_4 = Customer(3,'week',3) - Is family discount applicable here ?\n",
        "\n",
        "Call `rentBike` and `displaystock` methods for test-case objects given below :\n",
        "\n",
        "- customer_5 = Customer(120,'week',3)\n",
        "\n",
        "- customer_6 = Customer(0,'week',3)\n",
        "\n",
        "- customer_7 = Customer(-5,'week',3)\n",
        "\n",
        "- customer_8 = Customer(1,'day',3)"
      ]
    },
    {
      "cell_type": "code",
      "execution_count": null,
      "id": "40d0a7aa",
      "metadata": {
        "id": "40d0a7aa"
      },
      "outputs": [],
      "source": [
        "\n"
      ]
    },
    {
      "cell_type": "code",
      "source": [],
      "metadata": {
        "id": "j-xahuCjYtyn"
      },
      "id": "j-xahuCjYtyn",
      "execution_count": null,
      "outputs": []
    },
    {
      "cell_type": "code",
      "source": [],
      "metadata": {
        "id": "fuYssSWbh7Ql"
      },
      "id": "fuYssSWbh7Ql",
      "execution_count": null,
      "outputs": []
    }
  ],
  "metadata": {
    "kernelspec": {
      "display_name": "Python 3",
      "language": "python",
      "name": "python3"
    },
    "language_info": {
      "codemirror_mode": {
        "name": "ipython",
        "version": 3
      },
      "file_extension": ".py",
      "mimetype": "text/x-python",
      "name": "python",
      "nbconvert_exporter": "python",
      "pygments_lexer": "ipython3",
      "version": "3.8.8"
    },
    "colab": {
      "provenance": []
    }
  },
  "nbformat": 4,
  "nbformat_minor": 5
}