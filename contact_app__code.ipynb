{
  "cells": [
    {
      "cell_type": "markdown",
      "metadata": {
        "id": "BDt4FgnwMsfZ"
      },
      "source": [
        "# Contact app\n",
        "\n",
        "You have learnt a lot of new things; data structures, string, regex & files. Lets use all our newly acquired knowledge to build a **contact app**, just like the ones in our smartphone.\n",
        "\n",
        "We will not be building a fancy UI, instead we will focus on understanding the programming logic.\n",
        "\n",
        "Lets get started!\n",
        "\n",
        "Think of all the features that your contact app has . . . !\n",
        "- It can show you all the contact names\n",
        "- You can search for contacts (using name)\n",
        "- You can see all the information associated with the contact\n",
        "- You can delete and update contacts\n",
        "\n",
        "Can you think of anything more ? Our contact app should have at least these features.\n",
        "- The app should show us all the contact names\n",
        "- It should allow us to select a contact and view all the information associated with the contact\n",
        "- It should allow us to update contact info & delete contact\n",
        "- Finally, it should show us all the contact names\n",
        "\n",
        "For every contact, we will store the `name`, `number` & `email`."
      ]
    },
    {
      "cell_type": "markdown",
      "metadata": {
        "id": "2F1DTBDdMsfp"
      },
      "source": [
        "### Data Structure\n",
        "The very first thing that we need to decide is \"What data structure to use?\"\n",
        "\n",
        "To store all the contacts, we can use a list of dictionaries; were each dictionary stores the `name`, `number` & `email`  of the contact.\n",
        "\n",
        "Create a list of dictionaries called `contacts` with 3 dummy contacts.  "
      ]
    },
    {
      "cell_type": "code",
      "execution_count": null,
      "metadata": {
        "id": "7xUj912NMsfr"
      },
      "outputs": [],
      "source": [
        "contacts=[{'name':'Sayali','number':9124468911,'email':'sayalishevale3@gmail.com'},\n",
        "          {'name': 'Ankita','number':7387267299,'email':'ankitarathod10@gmail.com'},\n",
        "          {'name':'Shivani','number':9138990055,'email':'shivani19@gmail.com'}]"
      ]
    },
    {
      "cell_type": "markdown",
      "metadata": {
        "id": "Xru5dduaMsfu"
      },
      "source": [
        "### List all contact names\n",
        "Write `show_contacts` function that takes the `contacts` list and prints all the contact names. These names will help us to select the contact later."
      ]
    },
    {
      "cell_type": "code",
      "execution_count": null,
      "metadata": {
        "id": "NTjFZguRMsfv"
      },
      "outputs": [],
      "source": [
        "def show_contacts(contacts):\n",
        "       print(contacts)"
      ]
    },
    {
      "cell_type": "code",
      "execution_count": null,
      "metadata": {
        "colab": {
          "base_uri": "https://localhost:8080/"
        },
        "id": "BzRV3JWmMsfw",
        "outputId": "ab518c75-3475-4b86-9056-0babb2e3fbdf"
      },
      "outputs": [
        {
          "output_type": "stream",
          "name": "stdout",
          "text": [
            "[{'name': 'Sayali', 'number': 9124468911, 'email': 'sayalishevale3@gmail.com'}, {'name': 'Ankita', 'number': 7387267299, 'email': 'ankitarathod10@gmail.com'}, {'name': 'Shivani', 'number': 9138990055, 'email': 'shivani19@gmail.com'}]\n"
          ]
        }
      ],
      "source": [
        "show_contacts(contacts)"
      ]
    },
    {
      "cell_type": "markdown",
      "metadata": {
        "id": "C2D3Ak-bMsfx"
      },
      "source": [
        "### Add a new Contact\n",
        "\n",
        "Write `add_contact` function that takes user input and *adds new contact* dictionary to the existing list of `contacts`."
      ]
    },
    {
      "cell_type": "code",
      "execution_count": null,
      "metadata": {
        "id": "p5jrBy0QMsfy"
      },
      "outputs": [],
      "source": [
        "def add_contact(contacts):\n",
        "  new_dict={}\n",
        "  new_dict['name']=input('Enter your name:')\n",
        "  new_dict['number']=input('Enter your number:')\n",
        "  new_dict['email']=input('Enter your email:')\n",
        "  contacts.append(new_dict)\n",
        "  return (contacts)"
      ]
    },
    {
      "cell_type": "code",
      "execution_count": null,
      "metadata": {
        "colab": {
          "base_uri": "https://localhost:8080/"
        },
        "id": "9cBtjwRVMsfz",
        "outputId": "8f9de011-a9c0-4bef-8144-19f87d8f0fe9"
      },
      "outputs": [
        {
          "name": "stdout",
          "output_type": "stream",
          "text": [
            "Enter your name:Sanika\n",
            "Enter your number:9922647900\n",
            "Enter your email:sanika123@gmail.com\n"
          ]
        },
        {
          "output_type": "execute_result",
          "data": {
            "text/plain": [
              "[{'name': 'Sayali', 'number': 9124468911, 'email': 'sayalishevale3@gmail.com'},\n",
              " {'name': 'Ankita', 'number': 7387267299, 'email': 'ankitarathod10@gmail.com'},\n",
              " {'name': 'Shivani', 'number': 9138990055, 'email': 'shivani19@gmail.com'},\n",
              " {'name': 'Sanika', 'number': '9922647900', 'email': 'sanika123@gmail.com'}]"
            ]
          },
          "metadata": {},
          "execution_count": 5
        }
      ],
      "source": [
        "add_contact(contacts)"
      ]
    },
    {
      "cell_type": "markdown",
      "metadata": {
        "id": "qljjdQL5Msf0"
      },
      "source": [
        "### Delete Contact\n",
        "\n",
        "Write `delete_contact` function to delete an existing contact by providing `name` of the contact which we want to delete."
      ]
    },
    {
      "cell_type": "code",
      "execution_count": null,
      "metadata": {
        "id": "HDfo-pEfMsf2"
      },
      "outputs": [],
      "source": [
        "def delete_contact(contacts, name):\n",
        "  for i in contacts:\n",
        "    if i['name']==name:\n",
        "      contacts.remove(i)\n",
        "      break\n",
        "  return contacts\n"
      ]
    },
    {
      "cell_type": "code",
      "execution_count": null,
      "metadata": {
        "colab": {
          "base_uri": "https://localhost:8080/"
        },
        "id": "aaJatn6EMsf3",
        "outputId": "e4dc0aed-0dc4-4d82-98f8-f92c453d00d2"
      },
      "outputs": [
        {
          "output_type": "execute_result",
          "data": {
            "text/plain": [
              "[{'name': 'Sayali', 'number': 9124468911, 'email': 'sayalishevale3@gmail.com'},\n",
              " {'name': 'Ankita', 'number': 7387267299, 'email': 'ankitarathod10@gmail.com'},\n",
              " {'name': 'Shivani', 'number': 9138990055, 'email': 'shivani19@gmail.com'}]"
            ]
          },
          "metadata": {},
          "execution_count": 7
        }
      ],
      "source": [
        "delete_contact(contacts,'Sanika')"
      ]
    },
    {
      "cell_type": "markdown",
      "metadata": {
        "id": "X2sqP7ltMsf4"
      },
      "source": [
        "### Update Contact details\n",
        "\n",
        "Let's write `update_contact` function which will *update contact details* such as `name`, `email` & `number`.\n",
        "The functions should take `contacts` and `name` as arguments. It should also print the newly added contact."
      ]
    },
    {
      "cell_type": "code",
      "execution_count": null,
      "metadata": {
        "id": "4XiCbwiQMsf4"
      },
      "outputs": [],
      "source": [
        "def update_contact(contacts, name):\n",
        "\n",
        "  for cont in contacts:\n",
        "    if cont['name'] == name:\n",
        "      updated_name =  cont['name']\n",
        "      updated_number = cont['number']\n",
        "      updated_email = cont['email']\n",
        "\n",
        "      menu = input('Enter na to update name no to update number and em to update email:- ')\n",
        "      if menu == 'na':\n",
        "        updated_name =input('Enter updated name:- ')\n",
        "      elif menu == 'no':\n",
        "        updated_number =input('Enter updated number:- ')\n",
        "      elif menu == 'em':\n",
        "        updated_email =input('Enter updated email:- ')\n",
        "      elif 'na' in menu.split()  and 'no' in menu.split():\n",
        "        updated_name =input('Enter updated name:- ')\n",
        "        updated_number =input('Enter updated number:- ')\n",
        "\n",
        "      elif 'na' in menu.split()  and 'em' in menu.split():\n",
        "        updated_name =input('Enter updated name:- ')\n",
        "        updated_email =input('Enter updated email:- ')\n",
        "\n",
        "      elif  'no' in menu.split()  and 'em' in menu.split():\n",
        "        updated_number =input('Enter updated number:- ')\n",
        "        updated_email =input('Enter updated email:- ')\n",
        "\n",
        "      elif 'na' in menu.split() and'no' in menu.split()  and 'em' in menu.split():\n",
        "        updated_name =input('Enter updated name:- ')\n",
        "        updated_number =input('Enter updated number:- ')\n",
        "        updated_email =input('Enter updated email:- ')\n",
        "      cont['name'] = updated_name\n",
        "      cont['number'] = updated_number\n",
        "      cont['email'] = updated_email\n",
        "\n",
        "  return contacts"
      ]
    },
    {
      "cell_type": "code",
      "execution_count": null,
      "metadata": {
        "colab": {
          "base_uri": "https://localhost:8080/"
        },
        "id": "R8Uq2X9tMsf5",
        "outputId": "4bf46f81-e42c-4220-96f5-82169a5230f1"
      },
      "outputs": [
        {
          "output_type": "stream",
          "name": "stdout",
          "text": [
            "Contact not found for Mitali\n",
            "Contact not found for Mitali\n",
            "Contact not found for Mitali\n"
          ]
        }
      ],
      "source": [
        "def update_contact(contacts, name):\n",
        "\n",
        "  for i in contacts:\n",
        "      if i['name'] == name:\n",
        "        j=1\n",
        "        while j==1:\n",
        "          print(\"Updating contact details for\", name)\n",
        "          op=input(\"enter 'na for name','no for number','e for email' \").split()\n",
        "          if 'na' in op:\n",
        "            i['name'] = input(\"Enter new name \")\n",
        "          if 'no' in op:\n",
        "            i['number'] = input(\"Enter new number \")\n",
        "          if 'e' in op:\n",
        "            i['email'] = input(\" enter email id\")\n",
        "          if ('na' not in op) and ('no' not in op) and ('e' not in op):\n",
        "            print('Enter Correct input')\n",
        "            continue\n",
        "          print(\"\\nUpdated contact details:\")\n",
        "          print(\"Name:\", i['name'])\n",
        "          print(\"Number:\", i['number'])\n",
        "          print(\"Email:\", i['email'])\n",
        "          return contacts\n",
        "\n",
        "      else:\n",
        "        print(\"Contact not found for\", name)\n",
        "\n",
        "update_contact(contacts, 'Mitali')\n"
      ]
    },
    {
      "cell_type": "code",
      "source": [
        "from os import name\n",
        "update_contact(contacts, name)"
      ],
      "metadata": {
        "colab": {
          "base_uri": "https://localhost:8080/"
        },
        "id": "vO--5ww2P06-",
        "outputId": "17929f2b-94d5-4704-bd90-6ba09690be2d"
      },
      "execution_count": null,
      "outputs": [
        {
          "output_type": "stream",
          "name": "stdout",
          "text": [
            "Contact not found for posix\n",
            "Contact not found for posix\n",
            "Contact not found for posix\n"
          ]
        }
      ]
    },
    {
      "cell_type": "code",
      "source": [],
      "metadata": {
        "id": "3Ji2DbD9QmfU"
      },
      "execution_count": null,
      "outputs": []
    },
    {
      "cell_type": "markdown",
      "metadata": {
        "id": "nLEGoxIxMsf6"
      },
      "source": [
        "### Open Contact\n",
        "`open_contact` function takes the `contacts` list and a `name` string as input. It prints the contact details if `name` matches some contact name in the `contacts` list, else prints `No match found!`.\n",
        "\n",
        "**Note:** The functions should be case insensitive."
      ]
    },
    {
      "cell_type": "code",
      "execution_count": null,
      "metadata": {
        "id": "W0QlXX_AMsf6"
      },
      "outputs": [],
      "source": [
        "def search_contact(contacts, name):\n",
        "  for i in contacts:\n",
        "    if i['name']==name:\n",
        "      print('match')\n",
        "    else:\n",
        "      print('No match found!')\n",
        "      return contacts\n"
      ]
    },
    {
      "cell_type": "code",
      "source": [
        "# Initialize the Contacts Database\n",
        "contacts = [{'name': 'Sayali', 'number': 9124468911, 'email': 'sayalishevale3@gmail.com'},\n",
        "            {'name': 'Ankita', 'number': 7868799277, 'email': 'ankitarathod10@gmail.com'},\n",
        "            {'name': 'Shivani', 'number': 9138990055, 'email': 'shivani19@gmail.com'}]\n",
        "\n",
        "# Function to print contact details if a match is found\n",
        "def open_contact(contacts, name):\n",
        "    for contact in contacts:\n",
        "        if contact[\"name\"].lower() == name.lower():\n",
        "            print(\"Contacts:\")\n",
        "            print(\"Name:\", contact[\"name\"])\n",
        "            print(\"Number:\", contact[\"number\"])\n",
        "            print(\"Email:\", contact[\"email\"])\n",
        "            return\n",
        "    print(\"No match found!\")\n",
        "\n",
        "open_contact(contacts, 'Nikita')\n"
      ],
      "metadata": {
        "colab": {
          "base_uri": "https://localhost:8080/"
        },
        "id": "-yI5VFJJTOcR",
        "outputId": "8ea655ce-576d-4c03-a269-1a42b4d1fe03"
      },
      "execution_count": null,
      "outputs": [
        {
          "output_type": "stream",
          "name": "stdout",
          "text": [
            "No match found!\n"
          ]
        }
      ]
    },
    {
      "cell_type": "code",
      "execution_count": null,
      "metadata": {
        "id": "zE1rDucHMsf7"
      },
      "outputs": [],
      "source": [
        "open_contact(contacts, name)"
      ]
    },
    {
      "cell_type": "markdown",
      "metadata": {
        "id": "V0kvDMAhMsf7"
      },
      "source": [
        "We often see *update* & *delete* options after we open a particular contact. It would be great if we can also implement the same.\n",
        "\n",
        "After opening the contact, the program should wait for user input. The user can press `u` to update & `d` delete contact. Any other key press should be ignored\n",
        "\n",
        "Write the updated `open_contact` function below"
      ]
    },
    {
      "cell_type": "code",
      "execution_count": null,
      "metadata": {
        "id": "hkVnVwa8Msf8"
      },
      "outputs": [],
      "source": [
        "def open_contact(contacts, name):\n",
        "\n",
        "\n",
        "\n",
        "  found = False\n",
        "\n",
        "  for contact in contacts:\n",
        "      if contact['name'].lower() == name.lower():\n",
        "          print(\"Contact Details:\")\n",
        "          print(f\"Name: {contact['name']}\")\n",
        "          print(f\"Phone: {contact.get('phone', 'N/A')}\")\n",
        "          print(f\"Email: {contact.get('email', 'N/A')}\")\n",
        "          found = True\n",
        "          break\n",
        "\n",
        "  if not found:\n",
        "      print(\"No match found!\")"
      ]
    },
    {
      "cell_type": "code",
      "execution_count": null,
      "metadata": {
        "colab": {
          "base_uri": "https://localhost:8080/"
        },
        "id": "vj-faotVMsf8",
        "outputId": "3d7d9237-330d-427d-ed4d-a5736a015b86"
      },
      "outputs": [
        {
          "output_type": "stream",
          "name": "stdout",
          "text": [
            "No match found!\n"
          ]
        },
        {
          "output_type": "execute_result",
          "data": {
            "text/plain": [
              "[{'name': 'Sayali', 'number': 9124468911, 'email': 'sayalishevale3@gmail.com'},\n",
              " {'name': 'Ankita', 'number': 7868799277, 'email': 'ankitarathod10@gmail.com'},\n",
              " {'name': 'Shivani', 'number': 9138990055, 'email': 'shivani19@gmail.com'}]"
            ]
          },
          "metadata": {},
          "execution_count": 15
        }
      ],
      "source": [
        "search_contact(contacts, 'Nikita')"
      ]
    },
    {
      "cell_type": "code",
      "source": [
        "def open_contact(contacts, name):\n",
        "  for i in contacts:\n",
        "    if i['name']==name:\n",
        "      contacts.remove(i)\n",
        "      print('d')\n",
        "    if i['name']==name:\n",
        "      update_contact(contacts,name)\n",
        "      print('u')\n",
        "      return contacts"
      ],
      "metadata": {
        "id": "4_2D4m6kUV0s"
      },
      "execution_count": null,
      "outputs": []
    },
    {
      "cell_type": "code",
      "source": [
        "def open_contact(contacts):\n",
        "  while True:\n",
        "    choice = input(\"Enter 'u' to update contact, 'd' to delete contact, or any other key to return: \")\n",
        "    if choice.lower() == 'u':\n",
        "      name=input(\"Enter name\")\n",
        "      contacts = update_contact(contacts, name)\n",
        "    elif choice.lower() == 'd':\n",
        "      name=input(\"Enter name\")\n",
        "      contacts = delete_contact(contacts, name)\n",
        "    else:\n",
        "      break\n",
        "\n",
        "      # Exit the loop if neither 'u' nor 'd' is pressed\n",
        "      print('No match found!')\n",
        "      return contacts\n"
      ],
      "metadata": {
        "id": "0Q0V1KOAUbcG"
      },
      "execution_count": null,
      "outputs": []
    },
    {
      "cell_type": "code",
      "source": [
        "open_contact(contacts)"
      ],
      "metadata": {
        "colab": {
          "base_uri": "https://localhost:8080/"
        },
        "id": "jS4yg34qUmXp",
        "outputId": "e1e7c040-12d1-4b34-d242-cc53180c05a0"
      },
      "execution_count": null,
      "outputs": [
        {
          "name": "stdout",
          "output_type": "stream",
          "text": [
            "Enter 'u' to update contact, 'd' to delete contact, or any other key to return: u\n",
            "Enter nameMitali\n",
            "Contact not found for Mitali\n",
            "Contact not found for Mitali\n",
            "Contact not found for Mitali\n",
            "Enter 'u' to update contact, 'd' to delete contact, or any other key to return: q\n"
          ]
        }
      ]
    },
    {
      "cell_type": "markdown",
      "source": [
        "**Complete application (using all the above functions in use)**\n",
        "We will use an infinite loop to encapsulate our application logic and break only when q is pressed. We will use clear_output() function from IPython.display to clear the output before printing anything new.\n",
        "\n",
        "Below is the pseudo-code to help you build the application logic."
      ],
      "metadata": {
        "id": "MW5HGnPgVYYz"
      }
    },
    {
      "cell_type": "code",
      "source": [
        "contacts = [{'name': 'Sayali', 'number': 9124468911, 'email': 'sayalishevale3@gmail.com'},\n",
        "            {'name': 'Ankita', 'number': 7868799277, 'email': 'ankitarathod10@gmail.com'},\n",
        "            {'name': 'Shivani', 'number': 9138990055, 'email': 'shivani19@gmail.com'}]"
      ],
      "metadata": {
        "id": "uac8xELaVRcf"
      },
      "execution_count": null,
      "outputs": []
    },
    {
      "cell_type": "code",
      "source": [
        "from IPython.display import clear_output\n",
        "\n",
        "while True:\n",
        "  show_contacts(contacts)\n",
        "\n",
        "  action = input(\"Press 'a' - add contact, 'o' - open contact, 's' - search contact, 'q' - quit\")\n",
        "\n",
        "  if action == 'a':\n",
        "    add_contact(contacts)\n",
        "\n",
        "\n",
        "  elif action == 'o':\n",
        "    name = input(\"Enter name of the contact you want to open. \")\n",
        "    open_contact(contacts)\n",
        "\n",
        "  elif action == 'q':\n",
        "    break\n",
        "\n",
        "  else:\n",
        "    print('incorrect choice')\n"
      ],
      "metadata": {
        "colab": {
          "base_uri": "https://localhost:8080/"
        },
        "id": "AJgJguK2V6vh",
        "outputId": "e203744c-17a9-4fa7-fac2-462e22539a23"
      },
      "execution_count": null,
      "outputs": [
        {
          "name": "stdout",
          "output_type": "stream",
          "text": [
            "[{'name': 'Sayali', 'number': 9124468911, 'email': 'sayalishevale3@gmail.com'}, {'name': 'Ankita', 'number': 7868799277, 'email': 'ankitarathod10@gmail.com'}, {'name': 'Shivani', 'number': 9138990055, 'email': 'shivani19@gmail.com'}]\n",
            "Press 'a' - add contact, 'o' - open contact, 's' - search contact, 'q' - quito\n",
            "Enter name of the contact you want to open. Ankita\n",
            "Enter 'u' to update contact, 'd' to delete contact, or any other key to return: u\n",
            "Enter nameAnkita\n",
            "Contact not found for Ankita\n",
            "Updating contact details for Ankita\n",
            "enter 'na for name','no for number','e for email' na\n",
            "Enter new name Sanu\n",
            "\n",
            "Updated contact details:\n",
            "Name: Sanu\n",
            "Number: 7868799277\n",
            "Email: ankitarathod10@gmail.com\n",
            "Enter 'u' to update contact, 'd' to delete contact, or any other key to return: q\n",
            "[{'name': 'Sayali', 'number': 9124468911, 'email': 'sayalishevale3@gmail.com'}, {'name': 'Sanu', 'number': 7868799277, 'email': 'ankitarathod10@gmail.com'}, {'name': 'Shivani', 'number': 9138990055, 'email': 'shivani19@gmail.com'}]\n",
            "Press 'a' - add contact, 'o' - open contact, 's' - search contact, 'q' - quitq\n"
          ]
        }
      ]
    },
    {
      "cell_type": "markdown",
      "metadata": {
        "id": "s4S2BzfWMsf9"
      },
      "source": [
        "## Using files\n",
        "\n",
        "One major problem with the above approach is \"persistent storage\". Every time you close this notebook, all the new contacts are lost. This happens because `contacts` is a python variable. Its lives inside python session. As soon as the session is killed/terminated, all the varibles are also deleted.\n",
        "\n",
        "To address this problem, we will have to use save the contacts in a disk. What better reason to use files? Instead of using *list of dictionary*, use file to save the contacts.\n",
        "\n",
        "Save every new contact in a new-line and use \" , \" to separate the contact fields. This is how the above contacts should look, when saved in a file.\n",
        "\n",
        "```text\n",
        "vivek, vivek@gmail.com, 9921668254\n",
        "ankur, ankur@gmail.com, 8806807004\n",
        "pranav, pranav@gmail.com, 987654321\n",
        "```\n",
        "\n",
        "You task is to make appropriate changes to the above code to use `contacts.txt` instead of using `contacts` list."
      ]
    },
    {
      "cell_type": "markdown",
      "metadata": {
        "id": "gmKdNCbVMsf-"
      },
      "source": [
        "## Using Regex\n",
        "\n",
        "Yet another problem with our app is \"lack of validation\". While creating a new contact, user is free to enter anything. But why is that a problem?\n",
        "\n",
        "**Input validation** is important to ensure only properly formed data is entering the workflow in an information system, preventing malformed data from persisting in the database and triggering malfunction of various downstream components. Input validation should happen as early as possible in the data flow, preferably as soon as the data is received. [source](https://cheatsheetseries.owasp.org/cheatsheets/Input_Validation_Cheat_Sheet.html)\n",
        "\n",
        "The above paragraph is the complete gist of Input validation. Read it again & ponder for a minute. Its an important concept when building customer facing applications. We would highly recommend you to Google and read more about it.  \n",
        "\n",
        "Use regular expression to validate user input (before you save it to the file). Implement the following:\n",
        "- `Name` should be all alphabets. \" \" should also be allowed.\n",
        "- For `email` refer regex chapter from course material.\n",
        "- `Number` should have 10 digits. Not less, not more. Also, not alphabets should be allowed.\n",
        "- Add a new field `DOB` to each contact. It should follow YYYY-MM-DD format. Then write a regular expression to validate it. Remember, date & month cannot be greater that 31 & 12, respectively.\n",
        "\n",
        "Can you think of any more validations?"
      ]
    },
    {
      "cell_type": "markdown",
      "metadata": {
        "id": "3x6HWgHCMsf_"
      },
      "source": [
        "We really hope you had a wonderful time building this applications. This is how applications are developed in really life. You start with a set of basic functionalities and then you keep adding new features (like persistent storage & validation). As the application grows in size, you might encounter new problems to solve."
      ]
    }
  ],
  "metadata": {
    "kernelspec": {
      "display_name": "Python 3",
      "language": "python",
      "name": "python3"
    },
    "language_info": {
      "codemirror_mode": {
        "name": "ipython",
        "version": 3
      },
      "file_extension": ".py",
      "mimetype": "text/x-python",
      "name": "python",
      "nbconvert_exporter": "python",
      "pygments_lexer": "ipython3",
      "version": "3.7.4"
    },
    "toc": {
      "base_numbering": 1,
      "nav_menu": {},
      "number_sections": true,
      "sideBar": true,
      "skip_h1_title": false,
      "title_cell": "Table of Contents",
      "title_sidebar": "Contents",
      "toc_cell": false,
      "toc_position": {},
      "toc_section_display": true,
      "toc_window_display": false
    },
    "colab": {
      "provenance": []
    }
  },
  "nbformat": 4,
  "nbformat_minor": 0
}